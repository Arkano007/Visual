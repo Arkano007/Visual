{
 "cells": [
  {
   "cell_type": "markdown",
   "metadata": {},
   "source": [
    "## Analizador Léxico\n",
    "Su función es analizar una secuencia de caracteres para convertirla en una secuencia de tokens"
   ]
  },
  {
   "cell_type": "code",
   "execution_count": null,
   "metadata": {},
   "outputs": [],
   "source": [
    "from enum import Enum\n",
    "\n",
    "# Definición de tipos de token\n",
    "\n",
    "class TipoToken(Enum):\n",
    "    SI = 1\n",
    "    ENTONCES = 2\n",
    "    PALABRA = 3\n",
    "    NUMERO = 4\n",
    "    CC = 5\n",
    "    KM = 6"
   ]
  },
  {
   "cell_type": "code",
   "execution_count": null,
   "metadata": {},
   "outputs": [],
   "source": [
    "# Función para el analizador léxico\n",
    "\n",
    "def analizador_lexico(entrada: str) -> list:\n",
    "    tokens = entrada.lower().split()\n",
    "    lexemas = []\n",
    "\n",
    "    for token in tokens:\n",
    "        if token == 'si':\n",
    "            lexemas.append({\"valor\": token, \"tipo\": TipoToken.SI})\n",
    "        elif token == 'entonces':\n",
    "            lexemas.append({\"valor\": token, \"tipo\": TipoToken.ENTONCES})\n",
    "        elif token.isdigit():\n",
    "            lexemas.append({\"valor\": token, \"tipo\": TipoToken.NUMERO})\n",
    "        elif token == 'cc':\n",
    "            lexemas.append({\"valor\": token, \"tipo\": TipoToken.CC})\n",
    "        elif token == 'km':\n",
    "            lexemas.append({\"valor\": token, \"tipo\": TipoToken.KM})\n",
    "        else:\n",
    "            lexemas.append({\"valor\": token, \"tipo\": TipoToken.PALABRA})\n",
    "\n",
    "    return lexemas"
   ]
  },
  {
   "cell_type": "markdown",
   "metadata": {},
   "source": [
    "## Analizador sintáctico\n",
    "Analiza la estructura sintáctica del código fuente para determinar si está correctamente"
   ]
  },
  {
   "cell_type": "code",
   "execution_count": null,
   "metadata": {},
   "outputs": [],
   "source": [
    "# Definición de estados del analizador sintáctico\n",
    "\n",
    "class EstadosAnalizador(Enum):\n",
    "    INICIO = 1\n",
    "    PRECEDENTE = 2\n",
    "    CONDICION = 3\n",
    "    CONSECUENTE = 4\n",
    "    ATOMO = 5\n",
    "    ERROR = 6\n",
    "    FIN = 7"
   ]
  },
  {
   "cell_type": "code",
   "execution_count": null,
   "metadata": {},
   "outputs": [],
   "source": [
    "# Función para el analizador sintáctico\n",
    "\n",
    "def analizador_sintactico(lexemas: list, reglas_simbolos: list) -> EstadosAnalizador:\n",
    "    estado_actual = EstadosAnalizador.INICIO\n",
    "\n",
    "    for lexema in lexemas:\n",
    "        tipo = lexema[\"tipo\"]\n",
    "        valor = lexema[\"valor\"]\n",
    "\n",
    "        if estado_actual == EstadosAnalizador.INICIO:\n",
    "            if tipo == TipoToken.SI:\n",
    "                estado_actual = EstadosAnalizador.PRECEDENTE\n",
    "            else:\n",
    "                estado_actual = EstadosAnalizador.ERROR\n",
    "        \n",
    "        elif estado_actual == EstadosAnalizador.PRECEDENTE:\n",
    "            if tipo == TipoToken.PALABRA:\n",
    "                estado_actual = EstadosAnalizador.CONDICION\n",
    "            else:\n",
    "                estado_actual = EstadosAnalizador.ERROR\n",
    "        \n",
    "        elif estado_actual == EstadosAnalizador.CONDICION:\n",
    "            if tipo == TipoToken.NUMERO or tipo == TipoToken.PALABRA or tipo == TipoToken.CC or tipo == TipoToken.KM:\n",
    "                estado_actual = EstadosAnalizador.ATOMO\n",
    "            else:\n",
    "                estado_actual = EstadosAnalizador.ERROR\n",
    "        \n",
    "        elif estado_actual == EstadosAnalizador.ATOMO:\n",
    "            if tipo == TipoToken.ENTONCES:\n",
    "                estado_actual = EstadosAnalizador.CONSECUENTE\n",
    "            else:\n",
    "                estado_actual = EstadosAnalizador.ERROR\n",
    "        \n",
    "        elif estado_actual == EstadosAnalizador.CONSECUENTE:\n",
    "            if tipo == TipoToken.PALABRA:\n",
    "                estado_actual = EstadosAnalizador.FIN\n",
    "            else:\n",
    "                estado_actual = EstadosAnalizador.ERROR\n",
    "\n",
    "    return estado_actual"
   ]
  },
  {
   "cell_type": "markdown",
   "metadata": {},
   "source": [
    "## Analizador semántico\n",
    "Comprueba reglas adicionales que no son posibles de verificar en la etapa léxica o sintáctica"
   ]
  },
  {
   "cell_type": "code",
   "execution_count": null,
   "metadata": {},
   "outputs": [],
   "source": [
    "# Función para el analizador semántico\n",
    "\n",
    "def analizador_semantico(lexemas: list) -> bool:\n",
    "    tiene_si = False\n",
    "    tiene_entonces = False\n",
    "\n",
    "    for lexema in lexemas:\n",
    "        if lexema[\"tipo\"] == TipoToken.SI:\n",
    "            tiene_si = True\n",
    "        elif lexema[\"tipo\"] == TipoToken.ENTONCES:\n",
    "            tiene_entonces = True\n",
    "\n",
    "    return tiene_si and tiene_entonces"
   ]
  },
  {
   "cell_type": "markdown",
   "metadata": {},
   "source": [
    "## Lector de reglas"
   ]
  },
  {
   "cell_type": "code",
   "execution_count": null,
   "metadata": {},
   "outputs": [],
   "source": [
    "# Función para leer las reglas desde un archivo\n",
    "\n",
    "def leer_reglas(nombre_archivo: str) -> list:\n",
    "    with open(nombre_archivo, 'r') as file:\n",
    "        reglas = file.readlines()\n",
    "    return [regla.strip() for regla in reglas if regla.strip()]"
   ]
  },
  {
   "cell_type": "code",
   "execution_count": null,
   "metadata": {},
   "outputs": [],
   "source": [
    "# Leer las reglas desde el archivo\n",
    "\n",
    "nombre_archivo = 'reglas.txt'\n",
    "reglas = leer_reglas(nombre_archivo)"
   ]
  },
  {
   "cell_type": "markdown",
   "metadata": {},
   "source": [
    "## Convertir reglas a símbolo"
   ]
  },
  {
   "cell_type": "code",
   "execution_count": null,
   "metadata": {},
   "outputs": [],
   "source": [
    "# Función para convertir las reglas en símbolos para el analizador sintáctico\n",
    "\n",
    "def convertir_a_simbolos(reglas: list, analizador_lexico) -> list:\n",
    "    reglas_simbolos = []\n",
    "    for regla in reglas:\n",
    "        lexemas = analizador_lexico(regla)\n",
    "        reglas_simbolos.append(lexemas)\n",
    "    return reglas_simbolos"
   ]
  },
  {
   "cell_type": "code",
   "execution_count": null,
   "metadata": {},
   "outputs": [],
   "source": [
    "# Convertir las reglas en símbolos\n",
    "\n",
    "reglas_simbolos = convertir_a_simbolos(reglas, analizador_lexico)"
   ]
  },
  {
   "cell_type": "markdown",
   "metadata": {},
   "source": [
    "## Generación de tabla"
   ]
  },
  {
   "cell_type": "code",
   "execution_count": null,
   "metadata": {},
   "outputs": [],
   "source": [
    "# Función para construir la tabla de reglas para mostrar\n",
    "def construir_tabla_reglas(reglas_simbolos: list) -> dict:\n",
    "    tabla_reglas = {}\n",
    "\n",
    "    for i, regla_simbolos in enumerate(reglas_simbolos, start=1):\n",
    "        tabla_reglas[f\"Regla {i}\"] = regla_simbolos\n",
    "\n",
    "    return tabla_reglas"
   ]
  },
  {
   "cell_type": "code",
   "execution_count": null,
   "metadata": {},
   "outputs": [],
   "source": [
    "# Construir la tabla de reglas para mostrar\n",
    "\n",
    "tabla_reglas = construir_tabla_reglas(reglas_simbolos)"
   ]
  },
  {
   "cell_type": "markdown",
   "metadata": {},
   "source": [
    "## Ejemplo de aplicación"
   ]
  },
  {
   "cell_type": "code",
   "execution_count": null,
   "metadata": {},
   "outputs": [],
   "source": [
    "# Ejemplos de frases para probar el analizador\n",
    "\n",
    "frases = [\n",
    "    \"Si la motocicleta tiene más de 140 cc entonces es considerada de alto cilindraje\",\n",
    "    \"Si la motocicleta tiene menos de 3 años de antigüedad entonces es nueva\",\n",
    "    \"Si la motocicleta tiene menos de 500 km entonces es casi nueva\",\n",
    "    \"Si la motocicleta es deportiva y tiene más de 500 cc entonces es de alto rendimiento\",\n",
    "    \"Si la motocicleta es chopper y tiene más de 1000 cc entonces es de alto cilindraje\",\n",
    "    \"La motocicleta tiene menos de 150 cc entonces es considerada de bajo cilindraje\",\n",
    "    \"Si la motocicleta tiene al menos 4 años de antigüedad entonces es usada\",\n",
    "]"
   ]
  },
  {
   "cell_type": "markdown",
   "metadata": {},
   "source": [
    "## Ejecución de analizador"
   ]
  },
  {
   "cell_type": "code",
   "execution_count": null,
   "metadata": {},
   "outputs": [],
   "source": [
    "# Ejecución del analizador para las frases\n",
    "\n",
    "for frase in frases:\n",
    "    lexemas = analizador_lexico(frase)\n",
    "    resultado_sintactico = analizador_sintactico(lexemas, reglas_simbolos)\n",
    "    es_valido = analizador_semantico(lexemas)\n",
    "\n",
    "    print(frase)\n",
    "    if resultado_sintactico == EstadosAnalizador.FIN and es_valido:\n",
    "        print(\"La frase es válida.\")\n",
    "    else:\n",
    "        print(\"La frase no es válida.\")\n",
    "\n",
    "    print(\"Resultado sintáctico:\", resultado_sintactico)\n",
    "    print(\"Resultado semántico:\", es_valido)\n",
    "    print()\n",
    "\n",
    "# Mostrar tabla de reglas\n",
    "print(\"Tabla de Reglas:\")\n",
    "for nombre_regla, regla_simbolos in tabla_reglas.items():\n",
    "    print(nombre_regla)\n",
    "    for simbolo in regla_simbolos:\n",
    "        print(simbolo)\n",
    "    print()"
   ]
  }
 ],
 "metadata": {
  "kernelspec": {
   "display_name": ".venv",
   "language": "python",
   "name": "python3"
  },
  "language_info": {
   "codemirror_mode": {
    "name": "ipython",
    "version": 3
   },
   "file_extension": ".py",
   "mimetype": "text/x-python",
   "name": "python",
   "nbconvert_exporter": "python",
   "pygments_lexer": "ipython3",
   "version": "3.11.4"
  }
 },
 "nbformat": 4,
 "nbformat_minor": 2
}
